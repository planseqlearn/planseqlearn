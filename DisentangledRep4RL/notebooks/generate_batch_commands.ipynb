{
 "cells": [
  {
   "cell_type": "code",
   "execution_count": null,
   "metadata": {},
   "outputs": [],
   "source": [
    "import metaworld"
   ]
  },
  {
   "cell_type": "code",
   "execution_count": null,
   "metadata": {},
   "outputs": [],
   "source": [
    "# Generate commands to run original drqv2 and V1 agents for three seeds on every metaworld env\n",
    "# Commands are for experiments 19 - 118\n",
    "num_jobs = 8\n",
    "for i, name in enumerate(metaworld.MT1.ENV_NAMES):\n",
    "    id = 2*i + 19\n",
    "    for seed in [10, 11, 12]:\n",
    "        print(f\"export CUDA_VISIBLE_DEVICES=0; \" + \n",
    "                f\"python train.py task=metaworld_{name} disentangled_version=original_drqv2 \" +\n",
    "                f\"seed={seed} experiment_id={id} &\")\n",
    "    id += 1\n",
    "    for seed in [10, 11, 12]:\n",
    "        print(f\"export CUDA_VISIBLE_DEVICES=0; \" + \n",
    "                f\"python train.py task=metaworld_{name} disentangled_version=V1 latent_dim=4096 \" +\n",
    "                f\"seed={seed} experiment_id={id} &\")\n"
   ]
  },
  {
   "cell_type": "code",
   "execution_count": null,
   "metadata": {},
   "outputs": [],
   "source": [
    "# Experiments 123 - 132\n",
    "mt10 = metaworld.MT10()\n",
    "seed = 10\n",
    "for i, name in enumerate(mt10.train_classes.keys()):\n",
    "    id = 123 + i\n",
    "    print(f\"export CUDA_VISIBLE_DEVICES=0; \" + \n",
    "            f\"python disrep4rl/train.py task=metaworld_{name} agent=drqv2 \" +\n",
    "            f\"seed={seed} experiment_id={id} save_snapshot=true &\")"
   ]
  }
 ],
 "metadata": {
  "kernelspec": {
   "display_name": "drqv2",
   "language": "python",
   "name": "python3"
  },
  "language_info": {
   "codemirror_mode": {
    "name": "ipython",
    "version": 3
   },
   "file_extension": ".py",
   "mimetype": "text/x-python",
   "name": "python",
   "nbconvert_exporter": "python",
   "pygments_lexer": "ipython3",
   "version": "3.8.13"
  },
  "orig_nbformat": 4,
  "vscode": {
   "interpreter": {
    "hash": "6d73726aec3ec1e17ec52041b096410707aeb6ee49a85816cc245a7f282ffcb2"
   }
  }
 },
 "nbformat": 4,
 "nbformat_minor": 2
}
