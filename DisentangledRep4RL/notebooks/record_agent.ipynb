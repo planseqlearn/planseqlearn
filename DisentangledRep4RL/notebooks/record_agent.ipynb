{
 "cells": [
  {
   "cell_type": "code",
   "execution_count": 6,
   "metadata": {},
   "outputs": [],
   "source": [
    "import torch\n",
    "import os\n",
    "from pathlib import Path\n",
    "os.environ[\"MKL_SERVICE_FORCE_INTEL\"] = \"1\"\n",
    "os.environ[\"MUJOCO_GL\"] = \"egl\"\n",
    "os.environ[\"CUDA_VISIBLE_DEVICES\"]=\"1\"\n",
    "from disrep4rl.environments.metaworld_dm_env import make_metaworld\n",
    "from disrep4rl import utils\n",
    "from disrep4rl.video import VideoRecorder, FrameRecorder\n",
    "from termcolor import colored\n",
    "from disrep4rl.logger import _format"
   ]
  },
  {
   "cell_type": "code",
   "execution_count": 7,
   "metadata": {},
   "outputs": [],
   "source": [
    "PRINT_FORMAT = [\n",
    "    (\"episode\", \"E\", \"int\"),\n",
    "    (\"episode_length\", \"L\", \"int\"),\n",
    "    (\"episode_reward\", \"R\", \"float\"),\n",
    "    (\"success\", \"S\", \"int\"),\n",
    "]\n",
    "\n",
    "\n",
    "def print_episode_stats(data):\n",
    "    prefix = \"Data Generation\"\n",
    "    prefix = colored(prefix, \"blue\")\n",
    "    pieces = [f\"| {prefix: <14}\"]\n",
    "    for key, disp_key, ty in PRINT_FORMAT:\n",
    "        value = data.get(key, 0)\n",
    "        pieces.append(_format(disp_key, value, ty))\n",
    "    print(\" | \".join(pieces))"
   ]
  },
  {
   "cell_type": "code",
   "execution_count": 10,
   "metadata": {},
   "outputs": [
    {
     "name": "stderr",
     "output_type": "stream",
     "text": [
      "/home/kgmelin/miniconda3/envs/drqv2/lib/python3.8/site-packages/gym/spaces/box.py:127: UserWarning: \u001b[33mWARN: Box bound precision lowered by casting to float32\u001b[0m\n",
      "  logger.warn(f\"Box bound precision lowered by casting to {self.dtype}\")\n"
     ]
    }
   ],
   "source": [
    "seed = 1\n",
    "exp = \"144_10\"\n",
    "snapshot = f\"../snapshots/{exp}.pt\"\n",
    "payload = torch.load(snapshot)\n",
    "agent = payload['agent']\n",
    "\n",
    "# payload['task_name'] = \"metaworld_mt10\"\n",
    "# payload['frame_stack'] = 3\n",
    "# payload['action_repeat'] = 2\n",
    "# payload['discount'] = 0.99\n",
    "# payload['camera_name'] = 'corner'\n",
    "# payload['add_segmentation_to_obs'] = True\n",
    "\n",
    "eval_env = make_metaworld(payload['task_name'].split(\"_\")[1], payload['frame_stack'],\n",
    "                          payload['action_repeat'], payload['discount'], seed,\n",
    "                          payload['camera_name'], payload['add_segmentation_to_obs'])\n",
    "video_recorder = VideoRecorder(Path.cwd(), payload['camera_name'])\n",
    "frame_recorder = FrameRecorder(Path.cwd())"
   ]
  },
  {
   "cell_type": "code",
   "execution_count": 8,
   "metadata": {},
   "outputs": [
    {
     "name": "stdout",
     "output_type": "stream",
     "text": [
      "| \u001b[34mData Generation\u001b[0m | E: 30 | L: 250 | R: 20.0187 | S: 0\n",
      "| \u001b[34mData Generation\u001b[0m | E: 31 | L: 250 | R: 4556.3322 | S: 1\n",
      "| \u001b[34mData Generation\u001b[0m | E: 32 | L: 250 | R: 4769.5744 | S: 1\n",
      "| \u001b[34mData Generation\u001b[0m | E: 33 | L: 250 | R: 5.4771 | S: 0\n",
      "| \u001b[34mData Generation\u001b[0m | E: 34 | L: 250 | R: 3804.1858 | S: 1\n",
      "| \u001b[34mData Generation\u001b[0m | E: 35 | L: 250 | R: 21.0344 | S: 0\n",
      "| \u001b[34mData Generation\u001b[0m | E: 36 | L: 250 | R: 3.5950 | S: 0\n",
      "| \u001b[34mData Generation\u001b[0m | E: 37 | L: 250 | R: 3458.3160 | S: 1\n",
      "| \u001b[34mData Generation\u001b[0m | E: 38 | L: 250 | R: 16.5466 | S: 0\n",
      "| \u001b[34mData Generation\u001b[0m | E: 39 | L: 250 | R: 4748.8660 | S: 1\n"
     ]
    }
   ],
   "source": [
    "if not os.path.exists(f\"eval_video/{exp}\"):\n",
    "    os.mkdir(f\"eval_video/{exp}\")\n",
    "\n",
    "for episode in range(0, 30):\n",
    "    time_step = eval_env.reset()\n",
    "    total_reward = 0\n",
    "    max_success = 0\n",
    "    step = 0\n",
    "    video_recorder.init(eval_env)\n",
    "    frame_recorder.init(agent, time_step.observation)\n",
    "    while not time_step.last():\n",
    "        with torch.no_grad(), utils.eval_mode(agent):\n",
    "            action = agent.act(time_step.observation,\n",
    "                                    payload['_global_step'],\n",
    "                                    eval_mode=True)\n",
    "        time_step = eval_env.step(action)\n",
    "        total_reward += time_step.reward[\"reward\"]\n",
    "        success = int(time_step.reward[\"success\"])\n",
    "        max_success = max(max_success, success)\n",
    "        step += 1\n",
    "        video_recorder.record(eval_env)\n",
    "        frame_recorder.record(agent, time_step.observation)\n",
    "    \n",
    "    episode_stats = {\n",
    "        \"episode\": episode,\n",
    "        \"episode_length\": step,\n",
    "        \"episode_reward\": total_reward,\n",
    "        \"success\": max_success,\n",
    "    }\n",
    "    print_episode_stats(episode_stats)\n",
    "\n",
    "    video_recorder.save(f\"{exp}/{exp}_{episode}_high_res.mp4\", -1)\n",
    "    frame_recorder.save(f\"{exp}/{exp}_{episode}\", -1)"
   ]
  }
 ],
 "metadata": {
  "kernelspec": {
   "display_name": "drqv2",
   "language": "python",
   "name": "python3"
  },
  "language_info": {
   "codemirror_mode": {
    "name": "ipython",
    "version": 3
   },
   "file_extension": ".py",
   "mimetype": "text/x-python",
   "name": "python",
   "nbconvert_exporter": "python",
   "pygments_lexer": "ipython3",
   "version": "3.8.13"
  },
  "orig_nbformat": 4,
  "vscode": {
   "interpreter": {
    "hash": "6d73726aec3ec1e17ec52041b096410707aeb6ee49a85816cc245a7f282ffcb2"
   }
  }
 },
 "nbformat": 4,
 "nbformat_minor": 2
}
