{
 "cells": [
  {
   "cell_type": "code",
   "execution_count": 1,
   "metadata": {},
   "outputs": [],
   "source": [
    "import pandas as pd\n",
    "from matplotlib import pyplot as plt\n",
    "import os\n",
    "import numpy as np\n",
    "import yaml\n",
    "import glob\n",
    "import re"
   ]
  },
  {
   "attachments": {},
   "cell_type": "markdown",
   "metadata": {},
   "source": [
    "# Examine Run Lengths and Successes"
   ]
  },
  {
   "cell_type": "code",
   "execution_count": 2,
   "metadata": {},
   "outputs": [],
   "source": [
    "def get_seed_from_filename(filename):\n",
    "    pattern_regex = f\"(\\d)_(\\d\\d)_(19|20)\\d\\d.(0[1-9]|1[012]).(0[1-9]|[12][0-9]|3[01])\"\n",
    "    search = re.search(pattern_regex, filename)\n",
    "    if search is None:\n",
    "        return None\n",
    "    return int(search.group(2))"
   ]
  },
  {
   "cell_type": "code",
   "execution_count": 3,
   "metadata": {},
   "outputs": [],
   "source": [
    "def filter_duplicate_seeds(file_names):\n",
    "    file_names = sorted(file_names)\n",
    "    filtered_names = {}\n",
    "    for name in file_names:\n",
    "        seed = get_seed_from_filename(name)\n",
    "        filtered_names[seed] = name\n",
    "    return list(filtered_names.values())"
   ]
  },
  {
   "cell_type": "code",
   "execution_count": 12,
   "metadata": {},
   "outputs": [],
   "source": [
    "run_lengths = {}\n",
    "final_successes = {}\n",
    "min_id = 123\n",
    "max_id = 132\n",
    "for i in range(min_id, max_id+1):\n",
    "    run_lengths[i] = []\n",
    "    final_successes[i] = []\n",
    "    file_names = sorted(glob.glob(f'../exp_local/{i}_*/eval.csv'))\n",
    "    file_names = filter_duplicate_seeds(file_names)\n",
    "    for file_name in file_names:\n",
    "        data = pd.read_csv(file_name)\n",
    "        run_lengths[i].append(data.frame.iat[-1])\n",
    "        final_successes[i].append(data.max_success.iat[-1])"
   ]
  },
  {
   "cell_type": "code",
   "execution_count": null,
   "metadata": {},
   "outputs": [],
   "source": [
    "# Print run lengths and final successes (for copying to google sheets)\n",
    "for i in range(min_id, max_id+1):\n",
    "    print(f\"{str(run_lengths[i])[1:-1]}, {str(final_successes[i])[1:-1]}\")\n",
    "for i in range(1000):\n",
    "    print(\"\\n\")"
   ]
  },
  {
   "cell_type": "code",
   "execution_count": null,
   "metadata": {},
   "outputs": [],
   "source": [
    "# Compare original and V1\n",
    "for i in range(min_id, max_id+1, 2):\n",
    "    original_result = np.average(final_successes[i])\n",
    "    v1_result = np.average(final_successes[i+1])\n",
    "    original_length = np.average(run_lengths[i])\n",
    "    v1_length = np.average(run_lengths[i+1])\n",
    "    print(f\"{original_result}, {v1_result}, {v1_result-original_result}, {v1_length - original_length}\")"
   ]
  },
  {
   "cell_type": "code",
   "execution_count": null,
   "metadata": {},
   "outputs": [],
   "source": [
    "# Save the old run lengths, get new run lengths, and print the delta between the two\n",
    "# This can help show which runs are still updating/running\n",
    "old_run_lengths = run_lengths.copy()\n",
    "\n",
    "run_lengths = {}\n",
    "for i in range(min_id, max_id+1):\n",
    "    run_lengths[i] = []\n",
    "    file_names = sorted(glob.glob(f'exp_local/{i}_*/eval.csv'))\n",
    "    file_names = filter_duplicate_seeds(file_names)\n",
    "    for file_name in file_names:\n",
    "        data = pd.read_csv(file_name)\n",
    "        run_lengths[i].append(data.frame.iat[-1])\n",
    "\n",
    "for i in range(min_id, max_id+1):\n",
    "    print(f\"{i}: {[new-old for new,old in zip(run_lengths[i], old_run_lengths[i])]}\")"
   ]
  },
  {
   "attachments": {},
   "cell_type": "markdown",
   "metadata": {},
   "source": [
    "# Get Stats on Hydra Config Settings for Experiments"
   ]
  },
  {
   "cell_type": "code",
   "execution_count": 3,
   "metadata": {},
   "outputs": [],
   "source": [
    "sizes = {}\n",
    "a = {}\n",
    "attr = 'seed'\n",
    "final_results_dir = 'final_results'\n",
    "for run_type_dir in sorted(os.listdir(final_results_dir)):\n",
    "    sizes[run_type_dir] = {}\n",
    "    a[run_type_dir] = {}\n",
    "    for run_dir in os.listdir(final_results_dir + '/' + run_type_dir):\n",
    "        full_path = final_results_dir + '/' + run_type_dir + '/' + run_dir\n",
    "        full_path += '/.hydra/config.yaml'\n",
    "\n",
    "        size = yaml.safe_load(open(full_path, \"r\"))[attr]\n",
    "        if size in sizes[run_type_dir]:\n",
    "            sizes[run_type_dir][size] += 1\n",
    "            a[run_type_dir][size].append(run_dir)\n",
    "        else:\n",
    "            sizes[run_type_dir][size] = 1\n",
    "            a[run_type_dir][size] = [run_dir]"
   ]
  }
 ],
 "metadata": {
  "kernelspec": {
   "display_name": "drqv2",
   "language": "python",
   "name": "python3"
  },
  "language_info": {
   "codemirror_mode": {
    "name": "ipython",
    "version": 3
   },
   "file_extension": ".py",
   "mimetype": "text/x-python",
   "name": "python",
   "nbconvert_exporter": "python",
   "pygments_lexer": "ipython3",
   "version": "3.8.13 (default, Mar 28 2022, 11:38:47) \n[GCC 7.5.0]"
  },
  "orig_nbformat": 4,
  "vscode": {
   "interpreter": {
    "hash": "74fa5f8ddbb1b7ba3005d595f1e393c4dd541ef89191e21f7b96f0d51d6567bf"
   }
  }
 },
 "nbformat": 4,
 "nbformat_minor": 2
}
