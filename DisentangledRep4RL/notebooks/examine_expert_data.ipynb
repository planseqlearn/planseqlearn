{
 "cells": [
  {
   "cell_type": "code",
   "execution_count": 8,
   "metadata": {},
   "outputs": [],
   "source": [
    "import numpy as np\n",
    "from disrep4rl.replay_buffer import unflatten_dict"
   ]
  },
  {
   "cell_type": "code",
   "execution_count": 26,
   "metadata": {},
   "outputs": [],
   "source": [
    "data = np.load(\"../expert_data/test_basketball_10_2023.01.04_22:28:07/\"\n",
    "                + \"data/20230104T222813_0_250.npz\")\n",
    "data = {k: data[k] for k in data.keys()}\n",
    "data = unflatten_dict(data, key_delimiter=\".\")"
   ]
  }
 ],
 "metadata": {
  "kernelspec": {
   "display_name": "drqv2",
   "language": "python",
   "name": "python3"
  },
  "language_info": {
   "codemirror_mode": {
    "name": "ipython",
    "version": 3
   },
   "file_extension": ".py",
   "mimetype": "text/x-python",
   "name": "python",
   "nbconvert_exporter": "python",
   "pygments_lexer": "ipython3",
   "version": "3.8.13"
  },
  "orig_nbformat": 4,
  "vscode": {
   "interpreter": {
    "hash": "6d73726aec3ec1e17ec52041b096410707aeb6ee49a85816cc245a7f282ffcb2"
   }
  }
 },
 "nbformat": 4,
 "nbformat_minor": 2
}
