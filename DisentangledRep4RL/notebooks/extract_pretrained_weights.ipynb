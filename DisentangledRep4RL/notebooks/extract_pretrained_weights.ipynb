{
 "cells": [
  {
   "cell_type": "code",
   "execution_count": 3,
   "metadata": {},
   "outputs": [],
   "source": [
    "import torch\n",
    "import os\n",
    "os.environ[\"MKL_SERVICE_FORCE_INTEL\"] = \"1\"\n",
    "os.environ[\"MUJOCO_GL\"] = \"egl\"\n",
    "os.environ[\"CUDA_VISIBLE_DEVICES\"]=\"1\""
   ]
  },
  {
   "cell_type": "code",
   "execution_count": 4,
   "metadata": {},
   "outputs": [],
   "source": [
    "exp = \"158_11\"\n",
    "snapshot = f\"../snapshots/{exp}.pt\"\n",
    "payload = torch.load(snapshot)\n",
    "agent = payload['agent']"
   ]
  },
  {
   "cell_type": "code",
   "execution_count": 5,
   "metadata": {},
   "outputs": [],
   "source": [
    "if not os.path.exists(\"../pretrained_encoders\"):\n",
    "    os.mkdir(\"../pretrained_encoders\")\n",
    "torch.save({\"encoder\":agent.encoder.state_dict(), \n",
    "            \"mask_decoder\":agent.mask_decoder.state_dict(),\n",
    "            \"decoder\": agent.decoder.state_dict()}, \n",
    "            f\"../pretrained_encoders/{exp}_encoder.pt\") "
   ]
  }
 ],
 "metadata": {
  "kernelspec": {
   "display_name": "drqv2",
   "language": "python",
   "name": "python3"
  },
  "language_info": {
   "codemirror_mode": {
    "name": "ipython",
    "version": 3
   },
   "file_extension": ".py",
   "mimetype": "text/x-python",
   "name": "python",
   "nbconvert_exporter": "python",
   "pygments_lexer": "ipython3",
   "version": "3.8.13 (default, Mar 28 2022, 11:38:47) \n[GCC 7.5.0]"
  },
  "orig_nbformat": 4,
  "vscode": {
   "interpreter": {
    "hash": "6d73726aec3ec1e17ec52041b096410707aeb6ee49a85816cc245a7f282ffcb2"
   }
  }
 },
 "nbformat": 4,
 "nbformat_minor": 2
}
